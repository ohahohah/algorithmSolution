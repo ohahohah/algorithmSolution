{
 "cells": [
  {
   "cell_type": "code",
   "execution_count": 7,
   "metadata": {
    "collapsed": true
   },
   "outputs": [],
   "source": [
    "def bigSorting(unsorted):\n",
    "    sorted_array = sort(list(map(int, unsorted)))\n",
    "    print(\"====result====\", sorted_array)\n",
    "    \n",
    "    # unsorted = list(map(str,A))\n",
    "    # print(list(map(str,unsorted))\n",
    "    # return list(map(str,unsorted))\n",
    "    return list(map(str,sorted_array))\n",
    "\n",
    "def sort(array):\n",
    "    less = []\n",
    "    equal = []\n",
    "    greater = []\n",
    "\n",
    "    if len(array) > 1:\n",
    "        pivot = array[0]\n",
    "        for x in array:\n",
    "            if x < pivot:\n",
    "                less.append(x)\n",
    "            if x == pivot:\n",
    "                equal.append(x)\n",
    "            if x > pivot:\n",
    "                greater.append(x)\n",
    "        # Don't forget to return something!\n",
    "        return sort(less)+equal+sort(greater)  # Just use the + operator to join lists\n",
    "    # Note that you want equal ^^^^^ not pivot\n",
    "    else:  # You need to hande the part at the end of the recursion - when you only have one element in your array, just return the array.\n",
    "        return array"
   ]
  },
  {
   "cell_type": "code",
   "execution_count": 8,
   "metadata": {},
   "outputs": [
    {
     "name": "stdout",
     "output_type": "stream",
     "text": [
      "====result==== [1, 3, 3, 5, 10, 31415926535897932384626433832795]\n",
      "====result==== ['1', '3', '3', '5', '10', '31415926535897932384626433832795']\n"
     ]
    }
   ],
   "source": [
    "B=[\"31415926535897932384626433832795\",\"1\",\"3\",\"10\",\"3\",\"5\"]\n",
    "print(\"====result====\",bigSorting(B))"
   ]
  },
  {
   "cell_type": "code",
   "execution_count": null,
   "metadata": {
    "collapsed": true
   },
   "outputs": [],
   "source": [
    "#!/bin/python3\n",
    "\n",
    "import math\n",
    "import os\n",
    "import random\n",
    "import re\n",
    "import sys\n",
    "\n",
    "# Complete the bigSorting function below.\n",
    "def bigSorting(unsorted):\n",
    "    sorted_array = quicksort(list(map(int, unsorted)))\n",
    "    return list(map(str,sorted_array))\n",
    "\n",
    "def quicksort(A):\n",
    "    if len(A) < 2:\n",
    "        return A\n",
    "    else:\n",
    "        pivot = A[0]\n",
    "        less = [i for i in A[1:] if i <= pivot]\n",
    "        greater = [i for i in A[1:] if i > pivot]\n",
    "\n",
    "        return quicksort(less) + [pivot] + quicksort(greater)\n",
    "\n",
    "if __name__ == '__main__':\n",
    "    fptr = open(os.environ['OUTPUT_PATH'], 'w')\n",
    "\n",
    "    n = int(input())\n",
    "\n",
    "    unsorted = []\n",
    "\n",
    "    for _ in range(n):\n",
    "        unsorted_item = input()\n",
    "        unsorted.append(unsorted_item)\n",
    "\n",
    "    result = bigSorting(unsorted)\n",
    "\n",
    "    fptr.write('\\n'.join(result))\n",
    "    fptr.write('\\n')\n",
    "\n",
    "    fptr.close()\n",
    "\n"
   ]
  },
  {
   "cell_type": "code",
   "execution_count": null,
   "metadata": {
    "collapsed": true
   },
   "outputs": [],
   "source": [
    "for s in sorted(unsorted, key=int):\n",
    "    i = int(s) # Forces costly int -> str conversion in print()\n",
    "    print(i)\n",
    "for s in sorted(unsorted, key=int):\n",
    "    print(s)\n",
    "unsorted.sort(key=int)\n",
    "for s in unsorted:\n",
    "    print(s)"
   ]
  }
 ],
 "metadata": {
  "kernelspec": {
   "display_name": "Python 3",
   "language": "python",
   "name": "python3"
  },
  "language_info": {
   "codemirror_mode": {
    "name": "ipython",
    "version": 3
   },
   "file_extension": ".py",
   "mimetype": "text/x-python",
   "name": "python",
   "nbconvert_exporter": "python",
   "pygments_lexer": "ipython3",
   "version": "3.6.2"
  }
 },
 "nbformat": 4,
 "nbformat_minor": 2
}
